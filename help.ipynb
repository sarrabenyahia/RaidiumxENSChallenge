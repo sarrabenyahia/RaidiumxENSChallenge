{
 "cells": [
  {
   "cell_type": "code",
   "execution_count": 1,
   "metadata": {},
   "outputs": [],
   "source": [
    "import pandas as pd \n",
    "import numpy as np"
   ]
  },
  {
   "cell_type": "code",
   "execution_count": null,
   "metadata": {},
   "outputs": [],
   "source": [
    "from sklearn.datasets import load_iris\n",
    "from sklearn.cluster import KMeans\n",
    "from sklearn.tree import DecisionTreeClassifier\n",
    "\n",
    "# Load the iris dataset\n",
    "iris = load_iris()\n",
    "\n",
    "# Train a k-means clustering model on the data\n",
    "kmeans = KMeans(n_clusters=3)\n",
    "kmeans.fit(iris.data)\n",
    "\n",
    "# Use the trained clustering model to predict cluster labels\n",
    "labels = kmeans.labels_\n",
    "\n",
    "# Train a decision tree classifier on the data with the labels as the target variable\n",
    "clf = DecisionTreeClassifier()\n",
    "clf.fit(iris.data, labels)\n",
    "\n",
    "# Get the importance of each feature\n",
    "importances = clf.feature_importances_\n",
    "\n",
    "# Print the importance of each feature\n",
    "for i in range(len(iris.feature_names)):\n",
    "    print(iris.feature_names[i], \":\", importances[i])\n"
   ]
  }
 ],
 "metadata": {
  "kernelspec": {
   "display_name": ".venv",
   "language": "python",
   "name": "python3"
  },
  "language_info": {
   "codemirror_mode": {
    "name": "ipython",
    "version": 3
   },
   "file_extension": ".py",
   "mimetype": "text/x-python",
   "name": "python",
   "nbconvert_exporter": "python",
   "pygments_lexer": "ipython3",
   "version": "3.9.6"
  },
  "orig_nbformat": 4
 },
 "nbformat": 4,
 "nbformat_minor": 2
}
