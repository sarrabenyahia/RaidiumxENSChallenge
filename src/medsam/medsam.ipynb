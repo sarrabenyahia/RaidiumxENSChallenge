{
 "cells": [
  {
   "cell_type": "code",
   "execution_count": null,
   "metadata": {},
   "outputs": [],
   "source": [
    "import os\n",
    "import numpy as np\n",
    "from PIL import Image\n",
    "import matplotlib.pyplot as plt"
   ]
  },
  {
   "cell_type": "code",
   "execution_count": null,
   "metadata": {},
   "outputs": [],
   "source": [
    "DATA_PATH = './../../data/'\n",
    "# Set folder path\n",
    "os.makedirs(f'{DATA_PATH}output', exist_ok=True)\n",
    "folder_path = f'{DATA_PATH}X_train/'\n",
    "output_folder_path = f'{DATA_PATH}output/'\n",
    "\n",
    "# Loop over PNG files in folder\n",
    "for filename in os.listdir(folder_path):\n",
    "    if filename.endswith('.png'):\n",
    "        # Load PNG file\n",
    "        img = Image.open(os.path.join(folder_path, filename))\n",
    "\n",
    "        # Convert image to NumPy array\n",
    "        arr = np.array(img)\n",
    "\n",
    "        # Save array to NPZ file\n",
    "        np.savez_compressed(os.path.join(output_folder_path, f'{filename[:-4]}.npz'), arr=arr)\n"
   ]
  },
  {
   "cell_type": "code",
   "execution_count": null,
   "metadata": {},
   "outputs": [],
   "source": [
    "# Load NPZ file\n",
    "data = np.load(f'{DATA_PATH}/output/500.npz')\n",
    "\n",
    "# Extract array\n",
    "arr = data['arr']\n",
    "\n",
    "# Plot image\n",
    "plt.imshow(arr)\n",
    "plt.show()\n"
   ]
  }
 ],
 "metadata": {
  "language_info": {
   "name": "python"
  },
  "orig_nbformat": 4
 },
 "nbformat": 4,
 "nbformat_minor": 2
}
