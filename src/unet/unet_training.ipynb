{
 "cells": [
  {
   "cell_type": "code",
   "execution_count": 31,
   "metadata": {},
   "outputs": [],
   "source": [
    "import os\n",
    "import pandas as pd\n",
    "import numpy as np\n",
    "import cv2\n",
    "from glob import glob\n",
    "import tensorflow as tf\n",
    "import matplotlib.pyplot as plt\n",
    "from sklearn.model_selection import train_test_split\n",
    "from pathlib import Path\n",
    "from load_data import ImageDataSet\n",
    "\n",
    "\n",
    "from tensorflow.keras.layers import Conv2D, Activation, BatchNormalization\n",
    "from tensorflow.keras.layers import UpSampling2D, Input, Concatenate\n",
    "from tensorflow.keras.models import Model\n",
    "from tensorflow.keras.applications import MobileNetV2\n",
    "from tensorflow.keras.callbacks import EarlyStopping, ReduceLROnPlateau\n",
    "from tensorflow.keras.metrics import Recall, Precision\n",
    "from tensorflow.keras import backend as K\n",
    "from tensorflow.keras.optimizers import Adam\n",
    "from tensorflow.keras.losses import sparse_categorical_crossentropy\n",
    "import tensorflow.keras.backend as K\n",
    "from tensorflow.keras.layers import Input, Conv2D, MaxPooling2D, Dropout, UpSampling2D, concatenate\n",
    "from tensorflow.keras.models import Model\n",
    "\n"
   ]
  },
  {
   "cell_type": "code",
   "execution_count": 24,
   "metadata": {},
   "outputs": [
    {
     "name": "stdout",
     "output_type": "stream",
     "text": [
      "X_train shape: (1000, 512, 512)\n",
      "y_train shape: (1000, 262144)\n",
      "X_test shape: (500, 512, 512)\n"
     ]
    }
   ],
   "source": [
    "# Create an instance of the class with the data directory\n",
    "data_set = ImageDataSet(\"./../../data\")\n",
    "X_train = data_set.data_train\n",
    "X_test = data_set.data_test\n",
    "y_train = data_set.labels_train\n",
    "\n",
    "\n",
    "print(f\"X_train shape: {X_train.shape}\")\n",
    "print(f\"y_train shape: {y_train.shape}\") # 262144 = 512*512 :)\n",
    "print(f\"X_test shape: {X_test.shape}\")"
   ]
  },
  {
   "cell_type": "code",
   "execution_count": 25,
   "metadata": {},
   "outputs": [],
   "source": [
    "#Coding the dice loss to use it as loss for the u-net\n",
    "def dice_loss(y_true, y_pred):\n",
    "    numerator = 2 * K.sum(y_true * y_pred, axis=(1, 2, 3))\n",
    "    denominator = K.sum(y_true + y_pred, axis=(1, 2, 3))\n",
    "    return 1 - numerator / denominator"
   ]
  },
  {
   "cell_type": "code",
   "execution_count": 32,
   "metadata": {},
   "outputs": [],
   "source": [
    "def unet(input_shape=(512, 512, 1), num_classes=2):\n",
    "    inputs = Input(shape=input_shape)\n",
    "    \n",
    "    conv1 = Conv2D(64, 3, activation='relu', padding='same', kernel_initializer='he_normal')(inputs)\n",
    "    conv1 = Conv2D(64, 3, activation='relu', padding='same', kernel_initializer='he_normal')(conv1)\n",
    "    pool1 = MaxPooling2D(pool_size=(2, 2))(conv1)\n",
    "\n",
    "    conv2 = Conv2D(128, 3, activation='relu', padding='same', kernel_initializer='he_normal')(pool1)\n",
    "    conv2 = Conv2D(128, 3, activation='relu', padding='same', kernel_initializer='he_normal')(conv2)\n",
    "    pool2 = MaxPooling2D(pool_size=(2, 2))(conv2)\n",
    "\n",
    "    conv3 = Conv2D(256, 3, activation='relu', padding='same', kernel_initializer='he_normal')(pool2)\n",
    "    conv3 = Conv2D(256, 3, activation='relu', padding='same', kernel_initializer='he_normal')(conv3)\n",
    "    pool3 = MaxPooling2D(pool_size=(2, 2))(conv3)\n",
    "\n",
    "    conv4 = Conv2D(512, 3, activation='relu', padding='same', kernel_initializer='he_normal')(pool3)\n",
    "    conv4 = Conv2D(512, 3, activation='relu', padding='same', kernel_initializer='he_normal')(conv4)\n",
    "    drop4 = Dropout(0.5)(conv4)\n",
    "    pool4 = MaxPooling2D(pool_size=(2, 2))(drop4)\n",
    "\n",
    "    conv5 = Conv2D(1024, 3, activation='relu', padding='same', kernel_initializer='he_normal')(pool4)\n",
    "    conv5 = Conv2D(1024, 3, activation='relu', padding='same', kernel_initializer='he_normal')(conv5)\n",
    "    drop5 = Dropout(0.5)(conv5)\n",
    "\n",
    "    up6 = Conv2D(512, 2, activation='relu', padding='same', kernel_initializer='he_normal')(UpSampling2D(size=(2, 2))(drop5))\n",
    "    merge6 = concatenate([drop4, up6], axis=3)\n",
    "    conv6 = Conv2D(512, 3, activation='relu', padding='same', kernel_initializer='he_normal')(merge6)\n",
    "    conv6 = Conv2D(512, 3, activation='relu', padding='same', kernel_initializer='he_normal')(conv6)\n",
    "\n",
    "    up7 = Conv2D(256, 2, activation='relu', padding='same', kernel_initializer='he_normal')(UpSampling2D(size=(2, 2))(conv6))\n",
    "    merge7 = concatenate([conv3, up7], axis=3)\n",
    "    conv7 = Conv2D(256, 3, activation='relu', padding='same', kernel_initializer='he_normal')(merge7)\n",
    "    conv7 = Conv2D(256, 3, activation='relu', padding='same', kernel_initializer='he_normal')(conv7)\n",
    "\n",
    "    up8 = Conv2D(128, 2, activation='relu', padding='same', kernel_initializer='he_normal')(UpSampling2D(size=(2, 2))(conv7))\n",
    "    merge8 = concatenate([conv2, up8], axis=3)\n",
    "    conv8 = Conv2D(128, 3, activation='relu', padding='same', kernel_initializer='he_normal')(merge8)\n",
    "    conv8 = Conv2D(128, 3, activation='relu', padding='same', kernel_initializer='he_normal')(conv8)\n",
    "\n",
    "    up9 = Conv2D(64, 2, activation='relu', padding='same', kernel_initializer='he_normal')(UpSampling2D(size=(2, 2))(conv8))\n",
    "    merge9 = concatenate([conv1, up9], axis=3)\n",
    "    conv9 = Conv2D(64, 3, activation='relu', padding='same', kernel_initializer='he_normal')(merge9)\n",
    "    conv9 = Conv2D(64, 3, activation='relu', padding='same', kernel_initializer='he_normal')(conv9)\n",
    "    conv10 = Conv2D(num_classes, 1, activation='softmax')(conv9)\n",
    "\n",
    "    model = Model(inputs=inputs, outputs=conv10)\n",
    "    model.compile(optimizer=tf.keras.optimizers.Adam(lr=1e-4), loss=sparse_categorical_crossentropy, metrics=['accuracy'])\n",
    "\n",
    "    return model\n",
    "\n"
   ]
  },
  {
   "cell_type": "code",
   "execution_count": 27,
   "metadata": {},
   "outputs": [
    {
     "name": "stdout",
     "output_type": "stream",
     "text": [
      "(200, 512, 512, 1) (200, 512, 512, 1)\n"
     ]
    }
   ],
   "source": [
    "X_train_processed = X_train[:200] \n",
    "X_train_processed = np.expand_dims(X_train_processed, axis=-1)\n",
    "\n",
    "pixel_values = y_train[:200].transpose()\n",
    "y_train_array = pixel_values.values.reshape(((200, 512, 512, 1)))\n",
    "# Create a new array with values of 1 where the original array is not 0\n",
    "y_train_processed = np.where(y_train_array == 0, 0, 1)\n",
    "\n",
    "print(X_train_processed.shape,\n",
    "y_train_processed.shape)"
   ]
  },
  {
   "cell_type": "code",
   "execution_count": 28,
   "metadata": {},
   "outputs": [
    {
     "name": "stdout",
     "output_type": "stream",
     "text": [
      "(200, 512, 512, 1) (200, 512, 512, 1)\n",
      "All good for X_train!\n",
      "All good for y_train!\n"
     ]
    }
   ],
   "source": [
    "X_train_tensor = tf.convert_to_tensor(X_train_processed, dtype=tf.float32)\n",
    "y_train_tensor = tf.convert_to_tensor(y_train_processed, dtype=tf.float32)\n",
    "\n",
    "print(X_train_tensor.shape,\n",
    "y_train_tensor.shape)\n",
    "\n",
    "# Check for missing or invalid values in X_train_tensor\n",
    "if np.isnan(X_train_tensor).any() or np.isinf(X_train_tensor).any():\n",
    "    # Handle missing or invalid values in X_train_tensor\n",
    "    print(\"X_train_tensor contains missing or invalid values\")\n",
    "else:\n",
    "    print(\"All good for X_train!\")\n",
    "\n",
    "# Check for missing or invalid values in y_train_tensor\n",
    "if np.isnan(y_train_tensor).any() or np.isinf(y_train_tensor).any():\n",
    "    # Handle missing or invalid values in y_train_tensor\n",
    "    print(\"y_train_tensor contains missing or invalid values\")\n",
    "else:\n",
    "    print(\"All good for y_train!\")"
   ]
  },
  {
   "cell_type": "code",
   "execution_count": 34,
   "metadata": {},
   "outputs": [
    {
     "name": "stderr",
     "output_type": "stream",
     "text": [
      "WARNING:absl:At this time, the v2.11+ optimizer `tf.keras.optimizers.Adam` runs slowly on M1/M2 Macs, please use the legacy Keras optimizer instead, located at `tf.keras.optimizers.legacy.Adam`.\n",
      "WARNING:absl:`lr` is deprecated in Keras optimizer, please use `learning_rate` or use the legacy optimizer, e.g.,tf.keras.optimizers.legacy.Adam.\n",
      "WARNING:absl:There is a known slowdown when using v2.11+ Keras optimizers on M1/M2 Macs. Falling back to the legacy Keras optimizer, i.e., `tf.keras.optimizers.legacy.Adam`.\n"
     ]
    },
    {
     "name": "stdout",
     "output_type": "stream",
     "text": [
      "Model: \"model_2\"\n",
      "__________________________________________________________________________________________________\n",
      " Layer (type)                   Output Shape         Param #     Connected to                     \n",
      "==================================================================================================\n",
      " input_3 (InputLayer)           [(None, 512, 512, 1  0           []                               \n",
      "                                )]                                                                \n",
      "                                                                                                  \n",
      " conv2d_46 (Conv2D)             (None, 512, 512, 64  640         ['input_3[0][0]']                \n",
      "                                )                                                                 \n",
      "                                                                                                  \n",
      " conv2d_47 (Conv2D)             (None, 512, 512, 64  36928       ['conv2d_46[0][0]']              \n",
      "                                )                                                                 \n",
      "                                                                                                  \n",
      " max_pooling2d_8 (MaxPooling2D)  (None, 256, 256, 64  0          ['conv2d_47[0][0]']              \n",
      "                                )                                                                 \n",
      "                                                                                                  \n",
      " conv2d_48 (Conv2D)             (None, 256, 256, 12  73856       ['max_pooling2d_8[0][0]']        \n",
      "                                8)                                                                \n",
      "                                                                                                  \n",
      " conv2d_49 (Conv2D)             (None, 256, 256, 12  147584      ['conv2d_48[0][0]']              \n",
      "                                8)                                                                \n",
      "                                                                                                  \n",
      " max_pooling2d_9 (MaxPooling2D)  (None, 128, 128, 12  0          ['conv2d_49[0][0]']              \n",
      "                                8)                                                                \n",
      "                                                                                                  \n",
      " conv2d_50 (Conv2D)             (None, 128, 128, 25  295168      ['max_pooling2d_9[0][0]']        \n",
      "                                6)                                                                \n",
      "                                                                                                  \n",
      " conv2d_51 (Conv2D)             (None, 128, 128, 25  590080      ['conv2d_50[0][0]']              \n",
      "                                6)                                                                \n",
      "                                                                                                  \n",
      " max_pooling2d_10 (MaxPooling2D  (None, 64, 64, 256)  0          ['conv2d_51[0][0]']              \n",
      " )                                                                                                \n",
      "                                                                                                  \n",
      " conv2d_52 (Conv2D)             (None, 64, 64, 512)  1180160     ['max_pooling2d_10[0][0]']       \n",
      "                                                                                                  \n",
      " conv2d_53 (Conv2D)             (None, 64, 64, 512)  2359808     ['conv2d_52[0][0]']              \n",
      "                                                                                                  \n",
      " dropout_4 (Dropout)            (None, 64, 64, 512)  0           ['conv2d_53[0][0]']              \n",
      "                                                                                                  \n",
      " max_pooling2d_11 (MaxPooling2D  (None, 32, 32, 512)  0          ['dropout_4[0][0]']              \n",
      " )                                                                                                \n",
      "                                                                                                  \n",
      " conv2d_54 (Conv2D)             (None, 32, 32, 1024  4719616     ['max_pooling2d_11[0][0]']       \n",
      "                                )                                                                 \n",
      "                                                                                                  \n",
      " conv2d_55 (Conv2D)             (None, 32, 32, 1024  9438208     ['conv2d_54[0][0]']              \n",
      "                                )                                                                 \n",
      "                                                                                                  \n",
      " dropout_5 (Dropout)            (None, 32, 32, 1024  0           ['conv2d_55[0][0]']              \n",
      "                                )                                                                 \n",
      "                                                                                                  \n",
      " up_sampling2d_8 (UpSampling2D)  (None, 64, 64, 1024  0          ['dropout_5[0][0]']              \n",
      "                                )                                                                 \n",
      "                                                                                                  \n",
      " conv2d_56 (Conv2D)             (None, 64, 64, 512)  2097664     ['up_sampling2d_8[0][0]']        \n",
      "                                                                                                  \n",
      " concatenate_8 (Concatenate)    (None, 64, 64, 1024  0           ['dropout_4[0][0]',              \n",
      "                                )                                 'conv2d_56[0][0]']              \n",
      "                                                                                                  \n",
      " conv2d_57 (Conv2D)             (None, 64, 64, 512)  4719104     ['concatenate_8[0][0]']          \n",
      "                                                                                                  \n",
      " conv2d_58 (Conv2D)             (None, 64, 64, 512)  2359808     ['conv2d_57[0][0]']              \n",
      "                                                                                                  \n",
      " up_sampling2d_9 (UpSampling2D)  (None, 128, 128, 51  0          ['conv2d_58[0][0]']              \n",
      "                                2)                                                                \n",
      "                                                                                                  \n",
      " conv2d_59 (Conv2D)             (None, 128, 128, 25  524544      ['up_sampling2d_9[0][0]']        \n",
      "                                6)                                                                \n",
      "                                                                                                  \n",
      " concatenate_9 (Concatenate)    (None, 128, 128, 51  0           ['conv2d_51[0][0]',              \n",
      "                                2)                                'conv2d_59[0][0]']              \n",
      "                                                                                                  \n",
      " conv2d_60 (Conv2D)             (None, 128, 128, 25  1179904     ['concatenate_9[0][0]']          \n",
      "                                6)                                                                \n",
      "                                                                                                  \n",
      " conv2d_61 (Conv2D)             (None, 128, 128, 25  590080      ['conv2d_60[0][0]']              \n",
      "                                6)                                                                \n",
      "                                                                                                  \n",
      " up_sampling2d_10 (UpSampling2D  (None, 256, 256, 25  0          ['conv2d_61[0][0]']              \n",
      " )                              6)                                                                \n",
      "                                                                                                  \n",
      " conv2d_62 (Conv2D)             (None, 256, 256, 12  131200      ['up_sampling2d_10[0][0]']       \n",
      "                                8)                                                                \n",
      "                                                                                                  \n",
      " concatenate_10 (Concatenate)   (None, 256, 256, 25  0           ['conv2d_49[0][0]',              \n",
      "                                6)                                'conv2d_62[0][0]']              \n",
      "                                                                                                  \n",
      " conv2d_63 (Conv2D)             (None, 256, 256, 12  295040      ['concatenate_10[0][0]']         \n",
      "                                8)                                                                \n",
      "                                                                                                  \n",
      " conv2d_64 (Conv2D)             (None, 256, 256, 12  147584      ['conv2d_63[0][0]']              \n",
      "                                8)                                                                \n",
      "                                                                                                  \n",
      " up_sampling2d_11 (UpSampling2D  (None, 512, 512, 12  0          ['conv2d_64[0][0]']              \n",
      " )                              8)                                                                \n",
      "                                                                                                  \n",
      " conv2d_65 (Conv2D)             (None, 512, 512, 64  32832       ['up_sampling2d_11[0][0]']       \n",
      "                                )                                                                 \n",
      "                                                                                                  \n",
      " concatenate_11 (Concatenate)   (None, 512, 512, 12  0           ['conv2d_47[0][0]',              \n",
      "                                8)                                'conv2d_65[0][0]']              \n",
      "                                                                                                  \n",
      " conv2d_66 (Conv2D)             (None, 512, 512, 64  73792       ['concatenate_11[0][0]']         \n",
      "                                )                                                                 \n",
      "                                                                                                  \n",
      " conv2d_67 (Conv2D)             (None, 512, 512, 64  36928       ['conv2d_66[0][0]']              \n",
      "                                )                                                                 \n",
      "                                                                                                  \n",
      " conv2d_68 (Conv2D)             (None, 512, 512, 2)  130         ['conv2d_67[0][0]']              \n",
      "                                                                                                  \n",
      "==================================================================================================\n",
      "Total params: 31,030,658\n",
      "Trainable params: 31,030,658\n",
      "Non-trainable params: 0\n",
      "__________________________________________________________________________________________________\n"
     ]
    }
   ],
   "source": [
    "model = unet()\n",
    "model.summary()"
   ]
  },
  {
   "cell_type": "code",
   "execution_count": 35,
   "metadata": {},
   "outputs": [
    {
     "name": "stdout",
     "output_type": "stream",
     "text": [
      "Epoch 1/8\n",
      " 2/45 [>.............................] - ETA: 18:10 - loss: 58494.9609 - accuracy: 0.4712"
     ]
    }
   ],
   "source": [
    "history = model.fit(X_train_tensor, y_train_tensor, batch_size=4, epochs=8, validation_split=0.1)"
   ]
  },
  {
   "cell_type": "code",
   "execution_count": null,
   "metadata": {},
   "outputs": [],
   "source": [
    "model.save_weights('first_try.h5')"
   ]
  },
  {
   "cell_type": "code",
   "execution_count": null,
   "metadata": {},
   "outputs": [
    {
     "data": {
      "text/plain": [
       "(500, 512, 512, 1)"
      ]
     },
     "execution_count": 18,
     "metadata": {},
     "output_type": "execute_result"
    }
   ],
   "source": [
    "X_test_processed = np.expand_dims(X_test, axis=-1)\n",
    "X_test_processed.shape\n",
    "\n",
    "y_pred = model.predict(X_test)"
   ]
  },
  {
   "cell_type": "code",
   "execution_count": null,
   "metadata": {},
   "outputs": [],
   "source": [
    "y_pred_2d = y_pred.reshape((500, -1))\n",
    "\n",
    "# Convert the 2D numpy array to a pandas DataFrame\n",
    "df = pd.DataFrame(y_pred_2d)\n",
    "\n",
    "# Save the DataFrame to a CSV file\n",
    "df.to_csv(\"y_pred.csv\", index=True, header=True)"
   ]
  },
  {
   "cell_type": "code",
   "execution_count": null,
   "metadata": {},
   "outputs": [],
   "source": [
    "def plot_slice_seg(slice_image, seg):\n",
    "    fig, axes = plt.subplots(1, 2)\n",
    "    axes[0].imshow(slice_image, cmap=\"gray\")\n",
    "    axes[1].imshow(slice_image, cmap=\"gray\")\n",
    "    seg_masked = np.ma.masked_where(seg.reshape((512,512)) == 0, (seg.reshape((512,512))))\n",
    "    axes[1].imshow(seg_masked, cmap=\"tab20\")\n",
    "    plt.axis(\"off\")\n",
    "\n",
    "\n",
    "plot_slice_seg(X_test[5], test.iloc[5].values.reshape((512,512)))"
   ]
  },
  {
   "cell_type": "code",
   "execution_count": null,
   "metadata": {},
   "outputs": [],
   "source": []
  }
 ],
 "metadata": {
  "kernelspec": {
   "display_name": ".sam",
   "language": "python",
   "name": "python3"
  },
  "language_info": {
   "codemirror_mode": {
    "name": "ipython",
    "version": 3
   },
   "file_extension": ".py",
   "mimetype": "text/x-python",
   "name": "python",
   "nbconvert_exporter": "python",
   "pygments_lexer": "ipython3",
   "version": "3.9.6"
  },
  "orig_nbformat": 4
 },
 "nbformat": 4,
 "nbformat_minor": 2
}
