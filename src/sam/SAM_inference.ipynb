{
 "cells": [
  {
   "attachments": {},
   "cell_type": "markdown",
   "metadata": {},
   "source": [
    "# Segment Anything Model as Inference"
   ]
  },
  {
   "cell_type": "code",
   "execution_count": null,
   "metadata": {},
   "outputs": [],
   "source": [
    "import os\n",
    "import shutil\n",
    "import csv\n",
    "\n",
    "import cv2\n",
    "import numpy as np\n",
    "import pandas as pd\n",
    "from pathlib import Path\n",
    "from tqdm import tqdm\n",
    "import matplotlib.pyplot as plt\n",
    "\n",
    "from skimage.filters import sobel, rank\n",
    "from skimage.segmentation import watershed, felzenszwalb\n",
    "from scipy import ndimage as ndi\n",
    "from skimage.morphology import disk\n",
    "\n",
    "from segment_anything import SamAutomaticMaskGenerator, sam_model_registry\n",
    "import sklearn.metrics"
   ]
  },
  {
   "cell_type": "code",
   "execution_count": null,
   "metadata": {},
   "outputs": [],
   "source": [
    "# Define the path to the data directory and load the train labels\n",
    "DATA_PATH = \"./../../data/\"\n",
    "data_dir = Path(DATA_PATH)\n",
    "labels_train = pd.read_csv(data_dir / \"Y_train.csv\", index_col=0).T\n"
   ]
  },
  {
   "cell_type": "code",
   "execution_count": 30,
   "metadata": {},
   "outputs": [],
   "source": [
    "# We create a file containing only labeled X_train images to compute metrics using SAM for inference.\n",
    "path_to_X_train = f'{DATA_PATH}X_train/'\n",
    "path_to_X_train_ground_truth = f'{DATA_PATH}X_train_ground_truth'\n",
    "os.mkdir(path_to_X_train_ground_truth)\n",
    "\n",
    "# Copy the labeled images to the new folder\n",
    "for i in range(201):\n",
    "    image_path = os.path.join(path_to_X_train, str(i) + '.png')\n",
    "    ground_truth_path = os.path.join(\n",
    "        path_to_X_train_ground_truth, str(i) + '.png')\n",
    "    shutil.copyfile(image_path, ground_truth_path)\n",
    "\n",
    "# Set the directory for inferenced images\n",
    "inference_dir = f'{DATA_PATH}X_train_ground_truth/'\n",
    "\n",
    "# Create the predictions directory folder if it does not exist\n",
    "predictions_dir = f'{DATA_PATH}predictions/inference_sam/'\n",
    "os.makedirs(predictions_dir, exist_ok=True)\n"
   ]
  },
  {
   "cell_type": "code",
   "execution_count": 8,
   "metadata": {},
   "outputs": [],
   "source": [
    "# Load the pre-trained Vision Transformer model using the SAM library\n",
    "sam = sam_model_registry[\"vit_l\"](\n",
    "    checkpoint=\"./checkpoints_sam/sam_vit_l_0b3195.pth\")\n"
   ]
  },
  {
   "cell_type": "code",
   "execution_count": 36,
   "metadata": {},
   "outputs": [],
   "source": [
    "# Loop over each image in the directory\n",
    "for filename in os.listdir(inference_dir):\n",
    "    # Read the image and convert it to RGB\n",
    "    image = cv2.imread(os.path.join(inference_dir, filename))\n",
    "    image = cv2.cvtColor(image, cv2.COLOR_BGR2RGB)\n",
    "\n",
    "    # Generate the mask using the SamAutomaticMaskGenerator object\n",
    "    mask_generator = SamAutomaticMaskGenerator(sam)\n",
    "    masks = mask_generator.generate(image)\n",
    "\n",
    "    # Remove the file extension for naming the files when saving outputs\n",
    "    filename_without_extension = os.path.splitext(filename)[0]\n",
    "\n",
    "    # Save predicted outputs to CSV file\n",
    "    with open(f'{predictions_dir}{filename_without_extension}.csv', 'w', newline='') as csvfile:\n",
    "        writer = csv.writer(csvfile)\n",
    "        writer.writerow(['segmentation', 'area', 'bbox', 'predicted_iou',\n",
    "                        'point_coords', 'stability_score', 'crop_box'])\n",
    "        for mask in masks:\n",
    "            writer.writerow([mask['segmentation'], mask['area'], mask['bbox'], mask['predicted_iou'],\n",
    "                            mask['point_coords'], mask['stability_score'], mask['crop_box']])\n"
   ]
  },
  {
   "attachments": {},
   "cell_type": "markdown",
   "metadata": {},
   "source": [
    "# ajouter viz entre inférence et ground truth "
   ]
  },
  {
   "cell_type": "code",
   "execution_count": null,
   "metadata": {},
   "outputs": [],
   "source": [
    "# Plot the image and mask\n",
    "plt.figure(figsize=(7, 7))\n",
    "plt.imshow(image)\n",
    "show_anns(masks)\n",
    "plt.axis('off')\n",
    "plt.show()\n"
   ]
  },
  {
   "attachments": {},
   "cell_type": "markdown",
   "metadata": {},
   "source": [
    "ajouter métriques"
   ]
  },
  {
   "cell_type": "code",
   "execution_count": null,
   "metadata": {},
   "outputs": [],
   "source": []
  }
 ],
 "metadata": {
  "kernelspec": {
   "display_name": ".sam",
   "language": "python",
   "name": "python3"
  },
  "language_info": {
   "codemirror_mode": {
    "name": "ipython",
    "version": 3
   },
   "file_extension": ".py",
   "mimetype": "text/x-python",
   "name": "python",
   "nbconvert_exporter": "python",
   "pygments_lexer": "ipython3",
   "version": "3.9.6"
  },
  "orig_nbformat": 4
 },
 "nbformat": 4,
 "nbformat_minor": 2
}
